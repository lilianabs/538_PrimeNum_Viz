{
 "cells": [
  {
   "cell_type": "code",
   "execution_count": 1,
   "metadata": {
    "collapsed": true
   },
   "outputs": [],
   "source": [
    "# Import modules\n",
    "import pandas as pd\n",
    "import matplotlib.pyplot as plt\n",
    "import numpy as np\n",
    "import matplotlib as mpl\n",
    "import seaborn as sns\n",
    "import re\n",
    "\n",
    "plt.style.use('fivethirtyeight')\n",
    "\n",
    "# Figures inline and set visualization style\n",
    "%matplotlib inline"
   ]
  },
  {
   "cell_type": "code",
   "execution_count": 2,
   "metadata": {
    "collapsed": true
   },
   "outputs": [],
   "source": [
    "df=pd.read_csv(\"data/prime.csv\")"
   ]
  },
  {
   "cell_type": "code",
   "execution_count": 3,
   "metadata": {
    "collapsed": false
   },
   "outputs": [
    {
     "name": "stdout",
     "output_type": "stream",
     "text": [
      "<class 'pandas.core.frame.DataFrame'>\n",
      "RangeIndex: 50 entries, 0 to 49\n",
      "Data columns (total 7 columns):\n",
      "#                    50 non-null int64\n",
      "2                    50 non-null int64\n",
      "Digits               50 non-null object\n",
      "Date Discovered      50 non-null object\n",
      "Discovered By        50 non-null object\n",
      "Method / Hardware    46 non-null object\n",
      "Perfect Number       50 non-null int64\n",
      "dtypes: int64(3), object(4)\n",
      "memory usage: 2.8+ KB\n"
     ]
    }
   ],
   "source": [
    "df.info()"
   ]
  },
  {
   "cell_type": "code",
   "execution_count": 4,
   "metadata": {
    "collapsed": false
   },
   "outputs": [],
   "source": [
    "#We drop the columns we wont be using\n",
    "df.drop(['#','2','Discovered By','Method / Hardware','Perfect Number'], axis=1,inplace=True)"
   ]
  },
  {
   "cell_type": "code",
   "execution_count": 5,
   "metadata": {
    "collapsed": true
   },
   "outputs": [],
   "source": [
    "#We rename the columns\n",
    "df.rename(columns={'Date Discovered': 'DateDisc'}, inplace=True)"
   ]
  },
  {
   "cell_type": "code",
   "execution_count": 6,
   "metadata": {
    "collapsed": false
   },
   "outputs": [
    {
     "data": {
      "text/html": [
       "<div>\n",
       "<table border=\"1\" class=\"dataframe\">\n",
       "  <thead>\n",
       "    <tr style=\"text-align: right;\">\n",
       "      <th></th>\n",
       "      <th>Digits</th>\n",
       "      <th>DateDisc</th>\n",
       "    </tr>\n",
       "  </thead>\n",
       "  <tbody>\n",
       "    <tr>\n",
       "      <th>0</th>\n",
       "      <td>1</td>\n",
       "      <td>c. 500 BCE</td>\n",
       "    </tr>\n",
       "    <tr>\n",
       "      <th>1</th>\n",
       "      <td>1</td>\n",
       "      <td>c. 500 BCE</td>\n",
       "    </tr>\n",
       "    <tr>\n",
       "      <th>2</th>\n",
       "      <td>2</td>\n",
       "      <td>c. 275 BCE</td>\n",
       "    </tr>\n",
       "    <tr>\n",
       "      <th>3</th>\n",
       "      <td>3</td>\n",
       "      <td>c. 275 BCE</td>\n",
       "    </tr>\n",
       "    <tr>\n",
       "      <th>4</th>\n",
       "      <td>4</td>\n",
       "      <td>1456</td>\n",
       "    </tr>\n",
       "  </tbody>\n",
       "</table>\n",
       "</div>"
      ],
      "text/plain": [
       "  Digits    DateDisc\n",
       "0      1  c. 500 BCE\n",
       "1      1  c. 500 BCE\n",
       "2      2  c. 275 BCE\n",
       "3      3  c. 275 BCE\n",
       "4      4        1456"
      ]
     },
     "execution_count": 6,
     "metadata": {},
     "output_type": "execute_result"
    }
   ],
   "source": [
    "df.head()"
   ]
  },
  {
   "cell_type": "code",
   "execution_count": 7,
   "metadata": {
    "collapsed": false
   },
   "outputs": [
    {
     "data": {
      "text/plain": [
       "1588           2\n",
       "c. 275 BCE     2\n",
       "c. 500 BCE     2\n",
       "1952 Jan 30    2\n",
       "1961 Nov 03    2\n",
       "2013 Jan 25    1\n",
       "1992 Feb 19    1\n",
       "1456           1\n",
       "1998 Jan 27    1\n",
       "2005 Dec 15    1\n",
       "2004 May 15    1\n",
       "1971 Mar 04    1\n",
       "1963 May 11    1\n",
       "1988 Jan 28    1\n",
       "1952 Oct 07    1\n",
       "1979 Feb 09    1\n",
       "1996 Sep 03    1\n",
       "1999 Jun 01    1\n",
       "2001 Nov 14    1\n",
       "1883           1\n",
       "2016 Jan 07    1\n",
       "2008 Sep 06    1\n",
       "1982 Sep 25    1\n",
       "2017 Dec 26    1\n",
       "1978 Oct 30    1\n",
       "1979 Apr 08    1\n",
       "1876 Jan 10    1\n",
       "1914 Jun 11    1\n",
       "1952 Oct 09    1\n",
       "1772           1\n",
       "1952 Jun 25    1\n",
       "1963 Jun 02    1\n",
       "1983 Sep 19    1\n",
       "2005 Feb 18    1\n",
       "1996 Nov 13    1\n",
       "2006 Sep 04    1\n",
       "1994 Jan 04    1\n",
       "1911 Jun       1\n",
       "1957 Sep 08    1\n",
       "1963 May 16    1\n",
       "1985 Sep 01    1\n",
       "2003 Nov 17    1\n",
       "2008 Aug 23    1\n",
       "1997 Aug 24    1\n",
       "2009 Jun 04    1\n",
       "Name: DateDisc, dtype: int64"
      ]
     },
     "execution_count": 7,
     "metadata": {},
     "output_type": "execute_result"
    }
   ],
   "source": [
    "df['DateDisc'].value_counts()"
   ]
  },
  {
   "cell_type": "markdown",
   "metadata": {},
   "source": [
    "We extract the year from the column DateDisc"
   ]
  },
  {
   "cell_type": "code",
   "execution_count": 8,
   "metadata": {
    "collapsed": false
   },
   "outputs": [],
   "source": [
    "def get_year(df):\n",
    "    year=[]\n",
    "    for item in df.iteritems():\n",
    "        #We search for year\n",
    "        match = re.search('\\d\\d\\d\\d', item[1])\n",
    "        if match:\n",
    "            year.append(match.group())\n",
    "        else:\n",
    "            #We set year to 1400 for the case of a year less than 1456 \n",
    "            year.append('1400')\n",
    "    return year\n",
    "            \n",
    "df['Year']=get_year(df['DateDisc'])"
   ]
  },
  {
   "cell_type": "code",
   "execution_count": 9,
   "metadata": {
    "collapsed": false
   },
   "outputs": [
    {
     "data": {
      "text/html": [
       "<div>\n",
       "<table border=\"1\" class=\"dataframe\">\n",
       "  <thead>\n",
       "    <tr style=\"text-align: right;\">\n",
       "      <th></th>\n",
       "      <th>Digits</th>\n",
       "      <th>DateDisc</th>\n",
       "      <th>Year</th>\n",
       "    </tr>\n",
       "  </thead>\n",
       "  <tbody>\n",
       "    <tr>\n",
       "      <th>0</th>\n",
       "      <td>1</td>\n",
       "      <td>c. 500 BCE</td>\n",
       "      <td>1400</td>\n",
       "    </tr>\n",
       "    <tr>\n",
       "      <th>1</th>\n",
       "      <td>1</td>\n",
       "      <td>c. 500 BCE</td>\n",
       "      <td>1400</td>\n",
       "    </tr>\n",
       "    <tr>\n",
       "      <th>2</th>\n",
       "      <td>2</td>\n",
       "      <td>c. 275 BCE</td>\n",
       "      <td>1400</td>\n",
       "    </tr>\n",
       "    <tr>\n",
       "      <th>3</th>\n",
       "      <td>3</td>\n",
       "      <td>c. 275 BCE</td>\n",
       "      <td>1400</td>\n",
       "    </tr>\n",
       "    <tr>\n",
       "      <th>4</th>\n",
       "      <td>4</td>\n",
       "      <td>1456</td>\n",
       "      <td>1456</td>\n",
       "    </tr>\n",
       "  </tbody>\n",
       "</table>\n",
       "</div>"
      ],
      "text/plain": [
       "  Digits    DateDisc  Year\n",
       "0      1  c. 500 BCE  1400\n",
       "1      1  c. 500 BCE  1400\n",
       "2      2  c. 275 BCE  1400\n",
       "3      3  c. 275 BCE  1400\n",
       "4      4        1456  1456"
      ]
     },
     "execution_count": 9,
     "metadata": {},
     "output_type": "execute_result"
    }
   ],
   "source": [
    "df.head()"
   ]
  },
  {
   "cell_type": "code",
   "execution_count": 10,
   "metadata": {
    "collapsed": false
   },
   "outputs": [],
   "source": [
    "#We set the year to 1678 for years that are less than equal (so we can handle the dates in pandas)\n",
    "def fix_year(df):\n",
    "    years=[]\n",
    "    for item in df.iteritems():\n",
    "        if int(item[1])<1678:\n",
    "            years.append('1678')\n",
    "        else:\n",
    "            years.append(item[1])\n",
    "    return years\n",
    "\n",
    "df['Year']=fix_year(df['Year'])"
   ]
  },
  {
   "cell_type": "code",
   "execution_count": 11,
   "metadata": {
    "collapsed": false
   },
   "outputs": [
    {
     "name": "stdout",
     "output_type": "stream",
     "text": [
      "<class 'pandas.core.frame.DataFrame'>\n",
      "RangeIndex: 50 entries, 0 to 49\n",
      "Data columns (total 3 columns):\n",
      "Digits      50 non-null object\n",
      "DateDisc    50 non-null object\n",
      "Year        50 non-null datetime64[ns]\n",
      "dtypes: datetime64[ns](1), object(2)\n",
      "memory usage: 1.2+ KB\n"
     ]
    }
   ],
   "source": [
    "df['Year']=pd.to_datetime(df['Year'].astype(str),format=\"%Y\")\n",
    "df.info()"
   ]
  },
  {
   "cell_type": "code",
   "execution_count": 12,
   "metadata": {
    "collapsed": true
   },
   "outputs": [],
   "source": [
    "df.set_index('Year',inplace=True)"
   ]
  },
  {
   "cell_type": "markdown",
   "metadata": {},
   "source": [
    "Since some observations in Digits column contain ',' we need to remove this before casting to int. "
   ]
  },
  {
   "cell_type": "code",
   "execution_count": 13,
   "metadata": {
    "collapsed": false
   },
   "outputs": [],
   "source": [
    "def remove_comma_digits(df):\n",
    "    digits=[]\n",
    "    for elem in df.iteritems():\n",
    "        digits.append(elem[1].replace(',', ''))\n",
    "    return digits\n",
    "\n",
    "df['Digits']=remove_comma_digits(df['Digits'])"
   ]
  },
  {
   "cell_type": "code",
   "execution_count": 14,
   "metadata": {
    "collapsed": true
   },
   "outputs": [],
   "source": [
    "df['Digits']=pd.to_numeric(df[\"Digits\"])"
   ]
  },
  {
   "cell_type": "code",
   "execution_count": 15,
   "metadata": {
    "collapsed": false
   },
   "outputs": [
    {
     "data": {
      "text/plain": [
       "Text(0,0.5,'Length in digits (log scale)')"
      ]
     },
     "execution_count": 15,
     "metadata": {},
     "output_type": "execute_result"
    },
    {
     "data": {
      "image/png": "[encoded data removed]",
      "text/plain": [
       "<matplotlib.figure.Figure at 0x7f480d0d9748>"
      ]
     },
     "metadata": {},
     "output_type": "display_data"
    }
   ],
   "source": [
    "#This is our initial plot and we work on transforming it until it looks like the one from the website\n",
    "plt.figure(figsize=(12,8))\n",
    "plt.title('The longest known prime numbers over time')\n",
    "\n",
    "df[\"Digits\"].plot(alpha=0.5,color='blue')\n",
    "\n",
    "plt.xlabel('Year discovered', fontsize=18)\n",
    "plt.ylabel('Length in digits (log scale)', fontsize=16)"
   ]
  },
  {
   "cell_type": "code",
   "execution_count": 16,
   "metadata": {
    "collapsed": false
   },
   "outputs": [],
   "source": [
    "import matplotlib.style as style\n",
    "style.use('fivethirtyeight')"
   ]
  },
  {
   "cell_type": "code",
   "execution_count": 17,
   "metadata": {
    "collapsed": false
   },
   "outputs": [
    {
     "data": {
      "text/plain": [
       "Text(0,0.5,'Length in digits (log scale)')"
      ]
     },
     "execution_count": 17,
     "metadata": {},
     "output_type": "execute_result"
    },
    {
     "data": {
      "image/png": "[encoded data removed]",
      "text/plain": [
       "<matplotlib.figure.Figure at 0x7f480d0d9160>"
      ]
     },
     "metadata": {},
     "output_type": "display_data"
    }
   ],
   "source": [
    "plt.figure(figsize=(12,8))\n",
    "plt.title('The longest known prime numbers over time')\n",
    "\n",
    "ax=df[\"Digits\"].plot(alpha=0.5,color='blue')\n",
    "ax.tick_params(axis = 'both', which = 'major', labelsize = 18)\n",
    "\n",
    "plt.xlabel('Year discovered', fontsize=18)\n",
    "plt.ylabel('Length in digits (log scale)', fontsize=16)"
   ]
  },
  {
   "cell_type": "code",
   "execution_count": null,
   "metadata": {
    "collapsed": true
   },
   "outputs": [],
   "source": []
  }
 ],
 "metadata": {
  "kernelspec": {
   "display_name": "Python 3",
   "language": "python",
   "name": "python3"
  },
  "language_info": {
   "codemirror_mode": {
    "name": "ipython",
    "version": 3
   },
   "file_extension": ".py",
   "mimetype": "text/x-python",
   "name": "python",
   "nbconvert_exporter": "python",
   "pygments_lexer": "ipython3",
   "version": "3.6.0"
  }
 },
 "nbformat": 4,
 "nbformat_minor": 2
}
